{
 "cells": [
  {
   "cell_type": "markdown",
   "metadata": {},
   "source": [
    "\n",
    "\n",
    "<div style=\"display: flex;\">\n",
    "\n",
    "<div style=\"margin-right: 20px;\">\n",
    "\n",
    "**$I$**\n",
    "\n",
    "| 0  | 4  | 0  | 0  | \n",
    "|---|---|---|---|\n",
    "| 4  | 4  |  3 | 2  |  \n",
    "| 0  | 5  | 2  | 0  |   \n",
    "|  0 | 3  | 0  | 0  |   \n",
    "\n",
    "</div>\n",
    "\n",
    "<div>\n",
    "\n",
    "**$h$**\n",
    "\n",
    "| -1 | 0  | 1  |   \n",
    "|---|---|---|\n",
    "\n",
    "</div>\n",
    "\n",
    "</div>\n",
    "\n",
    "&nbsp;\n",
    "\n",
    "Compute the output of $h \\ast I $ of applying a convolution with kernel $h$ on the image $I$ for the specified locations, use padding with zeros. Mind the difference between convolution and correlation.\n",
    "\n"
   ]
  },
  {
   "cell_type": "markdown",
   "metadata": {},
   "source": [
    "---\n",
    "\n",
    "### Solution\n",
    "\n",
    "We are working with convolution operation, therefore we flip the kernel horizontally and vertically. However, the given kernel is one dimensional, therefore only horizontal flip will be applied. Since the kernel is 1x3, only 1-pixel wide padding on left and right sides of each row will be enough.\n",
    "\n",
    "&nbsp;\n",
    "\n",
    "$h_{flipped} = [1, 0, -1]$\n",
    "\n",
    "&nbsp;\n",
    "\n",
    "Padded image values:\n",
    "\n",
    "| 0 | 0  | 4  | 0  | 0  | 0 |\n",
    "| --- |---|---|---|---| ---|\n",
    "|0 | 4  | 4  |  3 | 2  |  0 |\n",
    "|0 | 0  | 5  | 2  | 0  |  0 | \n",
    "|0 |  0 | 3  | 0  | 0  |  0 |\n",
    "\n",
    "&nbsp;\n",
    "\n",
    "\n",
    "Output of $h \\ast I $:\n",
    "\n",
    "| 4  | 0  | -4  | 0  | \n",
    "|---|---|---|---|\n",
    "| 4  | -1  |  -2 | -3  |  \n",
    "| 5  | 2  | -5  | 0  |   \n",
    "|  3 | 0  | -3  | 0  | "
   ]
  }
 ],
 "metadata": {
  "language_info": {
   "name": "python"
  }
 },
 "nbformat": 4,
 "nbformat_minor": 2
}
