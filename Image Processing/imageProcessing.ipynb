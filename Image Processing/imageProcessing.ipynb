{
 "cells": [
  {
   "cell_type": "code",
   "execution_count": 6,
   "metadata": {},
   "outputs": [
    {
     "name": "stdout",
     "output_type": "stream",
     "text": [
      "Note: you may need to restart the kernel to use updated packages.\n"
     ]
    },
    {
     "name": "stderr",
     "output_type": "stream",
     "text": [
      "ERROR: Invalid requirement: 'numpy,'\n",
      "WARNING: You are using pip version 21.1.1; however, version 24.0 is available.\n",
      "You should consider upgrading via the 'C:\\Users\\lenih\\AppData\\Local\\Microsoft\\WindowsApps\\PythonSoftwareFoundation.Python.3.8_qbz5n2kfra8p0\\python.exe -m pip install --upgrade pip' command.\n"
     ]
    }
   ],
   "source": [
    "%pip install numpy, matplotlib, opencv-python, jupyterlab"
   ]
  },
  {
   "cell_type": "markdown",
   "metadata": {},
   "source": [
    "We will use the Probability Density function of the Normal Distribution (also known as the Gaussian distribution). The Normal Distribution is a bell-shaped curve, with a mean and a standard deviation. The mean is the average value of the distribution. The standard deviation is the measure of how far the values are spread out from the mean. The standard deviation is the square root of the variance. The variance is the average of the squared differences from the mean. The variance is the measure of how far the values are spread out from the mean.\n",
    "\n",
    "first derived by De Moivre and 200 years later by both Gauss and Laplace independently. The normal distributions occurs often in nature. For example, it describes the commonly occurring distribution of samples influenced by a large number of tiny, random disturbances, each with its own unique distribution\n",
    "\n",
    "The probability density function for the Gaussian distribution is:\n",
    "\n",
    "$ f(x) = \\frac{1}{\\sqrt{2\\pi\\sigma^2}} e^{-\\frac{(x - \\mu)^2}{2\\sigma^2}} $\n",
    "\n",
    "where \n",
    "$\\mu$ is the mean\n",
    "$\\sigma$ is the standard deviation. \n",
    "The square of the standard deviation, $\\sigma^2$, is called the variance.\n",
    "\n"
   ]
  },
  {
   "cell_type": "markdown",
   "metadata": {},
   "source": [
    "### References\n",
    "\n",
    "---\n",
    "\n",
    "[1] P. R. Peebles Jr., “Central Limit Theorem” in “Probability, Random Variables and Random Signal Principles”, 4th ed., 2001, pp. 51, 51, 125.\n",
    "\n",
    "[2] Wikipedia, “Normal distribution”, https://en.wikipedia.org/wiki/Normal_distribution\n",
    "\n"
   ]
  },
  {
   "cell_type": "code",
   "execution_count": 14,
   "metadata": {},
   "outputs": [
    {
     "ename": "AttributeError",
     "evalue": "'NoneType' object has no attribute 'shape'",
     "output_type": "error",
     "traceback": [
      "\u001b[1;31m---------------------------------------------------------------------------\u001b[0m",
      "\u001b[1;31mAttributeError\u001b[0m                            Traceback (most recent call last)",
      "Cell \u001b[1;32mIn[14], line 14\u001b[0m\n\u001b[0;32m     12\u001b[0m variance \u001b[38;5;241m=\u001b[39m \u001b[38;5;241m100\u001b[39m\n\u001b[0;32m     13\u001b[0m sigma \u001b[38;5;241m=\u001b[39m variance \u001b[38;5;241m*\u001b[39m\u001b[38;5;241m*\u001b[39m \u001b[38;5;241m0.5\u001b[39m\n\u001b[1;32m---> 14\u001b[0m gaussian \u001b[38;5;241m=\u001b[39m np\u001b[38;5;241m.\u001b[39mrandom\u001b[38;5;241m.\u001b[39mnormal(mean, sigma, \u001b[43moriginal_image\u001b[49m\u001b[38;5;241;43m.\u001b[39;49m\u001b[43mshape\u001b[49m)\n\u001b[0;32m     15\u001b[0m gaussian \u001b[38;5;241m=\u001b[39m original_image \u001b[38;5;241m+\u001b[39m gaussian\u001b[38;5;241m.\u001b[39mastype(np\u001b[38;5;241m.\u001b[39muint8)\n\u001b[0;32m     18\u001b[0m \u001b[38;5;66;03m# Plotting the images side by side\u001b[39;00m\n",
      "\u001b[1;31mAttributeError\u001b[0m: 'NoneType' object has no attribute 'shape'"
     ]
    }
   ],
   "source": [
    "import cv2\n",
    "import numpy as np\n",
    "import matplotlib.pyplot as plt\n",
    "\n",
    "# Load the original image\n",
    "image_path = 'Image Processing/img/gaussian_original.jpg'\n",
    "original_image = cv2.imread(image_path, cv2.IMREAD_GRAYSCALE)\n",
    "\n",
    "\n",
    "# Add Gaussian noise to the image\n",
    "mean = 0\n",
    "variance = 100\n",
    "sigma = variance ** 0.5\n",
    "gaussian = np.random.normal(mean, sigma, original_image.shape)\n",
    "gaussian = original_image + gaussian.astype(np.uint8)\n",
    "\n",
    "\n",
    "# Plotting the images side by side\n",
    "plt.figure(figsize=(10, 5))\n",
    "\n",
    "# Original Image\n",
    "plt.subplot(1, 2, 1)\n",
    "plt.imshow(original_image, cmap='gray')\n",
    "plt.title('Original Image')\n",
    "\n",
    "# Noisy Image\n",
    "plt.subplot(1, 2, 2)\n",
    "plt.imshow(gaussian, cmap='gray')\n",
    "plt.title('Noisy Image')\n",
    "\n",
    "plt.show()\n",
    "\n",
    "\n",
    "# Choose a row (e.g., the middle row)\n",
    "row_index = original_image.shape[0] // 2\n",
    "\n",
    "# Extract intensity values from the chosen row\n",
    "intensity_original = original_image[row_index, :]\n",
    "intensity_noisy = gaussian[row_index, :]\n",
    "\n",
    "# Plotting the intensity profile\n",
    "plt.figure(figsize=(10, 5))\n",
    "plt.plot(intensity_original, label='Original Image')\n",
    "plt.plot(intensity_noisy, label='Noisy Image')\n",
    "plt.title('Horizontal Intensity Slice')\n",
    "plt.xlabel('Pixel Position')\n",
    "plt.ylabel('Intensity')\n",
    "plt.legend()\n",
    "plt.show()\n"
   ]
  }
 ],
 "metadata": {
  "kernelspec": {
   "display_name": "Python 3",
   "language": "python",
   "name": "python3"
  },
  "language_info": {
   "codemirror_mode": {
    "name": "ipython",
    "version": 3
   },
   "file_extension": ".py",
   "mimetype": "text/x-python",
   "name": "python",
   "nbconvert_exporter": "python",
   "pygments_lexer": "ipython3",
   "version": "3.8.10"
  }
 },
 "nbformat": 4,
 "nbformat_minor": 2
}
