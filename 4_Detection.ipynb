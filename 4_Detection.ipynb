{
 "cells": [
  {
   "cell_type": "markdown",
   "metadata": {},
   "source": [
    "# Detection\n",
    "\n",
    "## Object Recognition and Categorization\n",
    "\n",
    "The recognition problem can be broken down along several axes. \n",
    "- Object detection: If the searched object is known, the solution involves scanning an image to determine where a match may occur.\n",
    "- Instance recognition: If the searched is a specific rigid object, characteristic feature points can be searched and they can be verified if they align in a geometrically plausible way.\n",
    "- Class recognition: Recognizing instances of varied classes such as furniture and animals. Recognition usually depends heavily on the context of surrounding objects and scene elements.\n",
    "\n",
    "\n",
    "\n",
    "#### Support Vector Machines (SVM) and Sliding-Window Based Object Detection\n",
    "\n",
    "An SVM searches for a series of maximum margin separating planes in feature space between different classes. In cases where linear classification boundaries are insufficient, the feature space can be lifted into higher-dimensional features with kernels.\n",
    "\n",
    "\n",
    "Maximum Margin Line\n",
    "\n",
    "$$ w = \\sum_{n=1}^{N} a_nt_nx_n $$\n",
    "\n",
    "$ f(x) = sign(w_n^T+b)$ \n",
    "\n",
    "\n",
    "\n",
    "\n",
    "\n"
   ]
  }
 ],
 "metadata": {
  "language_info": {
   "name": "python"
  }
 },
 "nbformat": 4,
 "nbformat_minor": 2
}
