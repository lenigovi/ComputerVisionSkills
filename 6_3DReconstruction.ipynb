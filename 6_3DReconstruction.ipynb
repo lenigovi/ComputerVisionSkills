{
 "cells": [
  {
   "cell_type": "markdown",
   "metadata": {},
   "source": [
    "# 3D Reconstruction\n",
    "\n",
    "Generic problem formulation is that given several images of the same object or scene, we need to compute a representation of the object's 3D shape."
   ]
  },
  {
   "cell_type": "markdown",
   "metadata": {},
   "source": [
    "## Local Invariant Features\n",
    "\n",
    "### Image Matching\n",
    "\n",
    "### Image Stitching\n",
    "\n",
    "\n",
    "Set of distinctive key feature points are detected in both images, and corresponding pairs are found. Around each keypoint, a region is defined. Region content is extracted and normalized. A local descriptor from the normalized region is computed, and local descriptors are matched. By using the pairs, the images are aligned.\n",
    "\n",
    "In order for the region descriptors to be invariant to a geometric transformation, the region shape needs to be covariant to the transformation.\n",
    "\n",
    "Invariant: Any physical quantity is invariant when its value remains unchanged under coordinate or symmetry transformations. Examples are physical quantities represented by scalars, such as temperature, pressure etc. whose value remains the same.\n",
    "\n",
    "Covariant: The term covariant is usually used when the equations of physical systems are unchanged under coordinate transformations. Physical quantities represented by tensors and appearing in tensorial equations are covariant. Relativistic equations are covariant in the sense that they retain the same form in every coordinate system\n",
    "\n",
    "\n",
    "Existing detectors:\n",
    "\n",
    "- Hessian & Harris\n",
    "- Laplacian, DoG\n",
    "- Harris-/Hessian-Laplace\n",
    "- Harris-/Hessian-Affine\n",
    "- EBR and IBR\n",
    "- MSER\n",
    "- Salient Regions\n",
    "\n",
    "\n",
    "#### Harris Detector\n",
    "Looks for 2D signal changes\n",
    "\n",
    "Goals:\n",
    "- Repeatable detection\n",
    "- Precise localization\n"
   ]
  }
 ],
 "metadata": {
  "language_info": {
   "name": "python"
  }
 },
 "nbformat": 4,
 "nbformat_minor": 2
}
